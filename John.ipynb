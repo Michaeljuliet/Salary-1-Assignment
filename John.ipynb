{
 "cells": [
  {
   "cell_type": "code",
   "execution_count": 1,
   "id": "94812dd5",
   "metadata": {},
   "outputs": [],
   "source": [
    "import pandas as pd"
   ]
  },
  {
   "cell_type": "code",
   "execution_count": 4,
   "id": "fe8a1b2b",
   "metadata": {},
   "outputs": [
    {
     "name": "stderr",
     "output_type": "stream",
     "text": [
      "C:\\Users\\USER\\AppData\\Local\\Temp\\ipykernel_10408\\3071063900.py:2: DtypeWarning: Columns (3,4,5,6,12) have mixed types. Specify dtype option on import or set low_memory=False.\n",
      "  df = pd.read_csv('C://Users//USER//Documents//Salaries.csv')\n"
     ]
    }
   ],
   "source": [
    "# Replace with the correct path to your salary dataset\n",
    "df = pd.read_csv('C://Users//USER//Documents//Salaries.csv')"
   ]
  },
  {
   "cell_type": "code",
   "execution_count": 5,
   "id": "3329b488",
   "metadata": {},
   "outputs": [
    {
     "data": {
      "text/html": [
       "<div>\n",
       "<style scoped>\n",
       "    .dataframe tbody tr th:only-of-type {\n",
       "        vertical-align: middle;\n",
       "    }\n",
       "\n",
       "    .dataframe tbody tr th {\n",
       "        vertical-align: top;\n",
       "    }\n",
       "\n",
       "    .dataframe thead th {\n",
       "        text-align: right;\n",
       "    }\n",
       "</style>\n",
       "<table border=\"1\" class=\"dataframe\">\n",
       "  <thead>\n",
       "    <tr style=\"text-align: right;\">\n",
       "      <th></th>\n",
       "      <th>Id</th>\n",
       "      <th>EmployeeName</th>\n",
       "      <th>JobTitle</th>\n",
       "      <th>BasePay</th>\n",
       "      <th>OvertimePay</th>\n",
       "      <th>OtherPay</th>\n",
       "      <th>Benefits</th>\n",
       "      <th>TotalPay</th>\n",
       "      <th>TotalPayBenefits</th>\n",
       "      <th>Year</th>\n",
       "      <th>Notes</th>\n",
       "      <th>Agency</th>\n",
       "      <th>Status</th>\n",
       "    </tr>\n",
       "  </thead>\n",
       "  <tbody>\n",
       "    <tr>\n",
       "      <th>0</th>\n",
       "      <td>1</td>\n",
       "      <td>NATHANIEL FORD</td>\n",
       "      <td>GENERAL MANAGER-METROPOLITAN TRANSIT AUTHORITY</td>\n",
       "      <td>167411.18</td>\n",
       "      <td>0.0</td>\n",
       "      <td>400184.25</td>\n",
       "      <td>NaN</td>\n",
       "      <td>567595.43</td>\n",
       "      <td>567595.43</td>\n",
       "      <td>2011</td>\n",
       "      <td>NaN</td>\n",
       "      <td>San Francisco</td>\n",
       "      <td>NaN</td>\n",
       "    </tr>\n",
       "    <tr>\n",
       "      <th>1</th>\n",
       "      <td>2</td>\n",
       "      <td>GARY JIMENEZ</td>\n",
       "      <td>CAPTAIN III (POLICE DEPARTMENT)</td>\n",
       "      <td>155966.02</td>\n",
       "      <td>245131.88</td>\n",
       "      <td>137811.38</td>\n",
       "      <td>NaN</td>\n",
       "      <td>538909.28</td>\n",
       "      <td>538909.28</td>\n",
       "      <td>2011</td>\n",
       "      <td>NaN</td>\n",
       "      <td>San Francisco</td>\n",
       "      <td>NaN</td>\n",
       "    </tr>\n",
       "    <tr>\n",
       "      <th>2</th>\n",
       "      <td>3</td>\n",
       "      <td>ALBERT PARDINI</td>\n",
       "      <td>CAPTAIN III (POLICE DEPARTMENT)</td>\n",
       "      <td>212739.13</td>\n",
       "      <td>106088.18</td>\n",
       "      <td>16452.6</td>\n",
       "      <td>NaN</td>\n",
       "      <td>335279.91</td>\n",
       "      <td>335279.91</td>\n",
       "      <td>2011</td>\n",
       "      <td>NaN</td>\n",
       "      <td>San Francisco</td>\n",
       "      <td>NaN</td>\n",
       "    </tr>\n",
       "    <tr>\n",
       "      <th>3</th>\n",
       "      <td>4</td>\n",
       "      <td>CHRISTOPHER CHONG</td>\n",
       "      <td>WIRE ROPE CABLE MAINTENANCE MECHANIC</td>\n",
       "      <td>77916.0</td>\n",
       "      <td>56120.71</td>\n",
       "      <td>198306.9</td>\n",
       "      <td>NaN</td>\n",
       "      <td>332343.61</td>\n",
       "      <td>332343.61</td>\n",
       "      <td>2011</td>\n",
       "      <td>NaN</td>\n",
       "      <td>San Francisco</td>\n",
       "      <td>NaN</td>\n",
       "    </tr>\n",
       "    <tr>\n",
       "      <th>4</th>\n",
       "      <td>5</td>\n",
       "      <td>PATRICK GARDNER</td>\n",
       "      <td>DEPUTY CHIEF OF DEPARTMENT,(FIRE DEPARTMENT)</td>\n",
       "      <td>134401.6</td>\n",
       "      <td>9737.0</td>\n",
       "      <td>182234.59</td>\n",
       "      <td>NaN</td>\n",
       "      <td>326373.19</td>\n",
       "      <td>326373.19</td>\n",
       "      <td>2011</td>\n",
       "      <td>NaN</td>\n",
       "      <td>San Francisco</td>\n",
       "      <td>NaN</td>\n",
       "    </tr>\n",
       "  </tbody>\n",
       "</table>\n",
       "</div>"
      ],
      "text/plain": [
       "   Id       EmployeeName                                        JobTitle  \\\n",
       "0   1     NATHANIEL FORD  GENERAL MANAGER-METROPOLITAN TRANSIT AUTHORITY   \n",
       "1   2       GARY JIMENEZ                 CAPTAIN III (POLICE DEPARTMENT)   \n",
       "2   3     ALBERT PARDINI                 CAPTAIN III (POLICE DEPARTMENT)   \n",
       "3   4  CHRISTOPHER CHONG            WIRE ROPE CABLE MAINTENANCE MECHANIC   \n",
       "4   5    PATRICK GARDNER    DEPUTY CHIEF OF DEPARTMENT,(FIRE DEPARTMENT)   \n",
       "\n",
       "     BasePay OvertimePay   OtherPay Benefits   TotalPay  TotalPayBenefits  \\\n",
       "0  167411.18         0.0  400184.25      NaN  567595.43         567595.43   \n",
       "1  155966.02   245131.88  137811.38      NaN  538909.28         538909.28   \n",
       "2  212739.13   106088.18    16452.6      NaN  335279.91         335279.91   \n",
       "3    77916.0    56120.71   198306.9      NaN  332343.61         332343.61   \n",
       "4   134401.6      9737.0  182234.59      NaN  326373.19         326373.19   \n",
       "\n",
       "   Year  Notes         Agency Status  \n",
       "0  2011    NaN  San Francisco    NaN  \n",
       "1  2011    NaN  San Francisco    NaN  \n",
       "2  2011    NaN  San Francisco    NaN  \n",
       "3  2011    NaN  San Francisco    NaN  \n",
       "4  2011    NaN  San Francisco    NaN  "
      ]
     },
     "execution_count": 5,
     "metadata": {},
     "output_type": "execute_result"
    }
   ],
   "source": [
    "# View the first few rows of the data\n",
    "df.head()"
   ]
  },
  {
   "cell_type": "code",
   "execution_count": 7,
   "id": "ddddc4a2",
   "metadata": {},
   "outputs": [
    {
     "data": {
      "text/plain": [
       "(148654, 13)"
      ]
     },
     "execution_count": 7,
     "metadata": {},
     "output_type": "execute_result"
    }
   ],
   "source": [
    "# check the shape\n",
    "df.shape"
   ]
  },
  {
   "cell_type": "code",
   "execution_count": 8,
   "id": "ba9ac192",
   "metadata": {},
   "outputs": [
    {
     "data": {
      "text/plain": [
       "Id                       0\n",
       "EmployeeName             0\n",
       "JobTitle                 0\n",
       "BasePay                605\n",
       "OvertimePay              0\n",
       "OtherPay                 0\n",
       "Benefits             36159\n",
       "TotalPay                 0\n",
       "TotalPayBenefits         0\n",
       "Year                     0\n",
       "Notes               148654\n",
       "Agency                   0\n",
       "Status              110535\n",
       "dtype: int64"
      ]
     },
     "execution_count": 8,
     "metadata": {},
     "output_type": "execute_result"
    }
   ],
   "source": [
    "# check missing value \n",
    "df.isnull().sum()"
   ]
  },
  {
   "cell_type": "code",
   "execution_count": 9,
   "id": "dcb3e3a6",
   "metadata": {},
   "outputs": [],
   "source": [
    "# dropping unwanted col\n",
    "df.drop(['Status','Notes','Benefits'],axis =1, inplace=True)"
   ]
  },
  {
   "cell_type": "code",
   "execution_count": 10,
   "id": "532bd5ee",
   "metadata": {},
   "outputs": [
    {
     "data": {
      "text/plain": [
       "Id                    0\n",
       "EmployeeName          0\n",
       "JobTitle              0\n",
       "BasePay             605\n",
       "OvertimePay           0\n",
       "OtherPay              0\n",
       "TotalPay              0\n",
       "TotalPayBenefits      0\n",
       "Year                  0\n",
       "Agency                0\n",
       "dtype: int64"
      ]
     },
     "execution_count": 10,
     "metadata": {},
     "output_type": "execute_result"
    }
   ],
   "source": [
    "df.isnull().sum()"
   ]
  },
  {
   "cell_type": "code",
   "execution_count": 11,
   "id": "1023ebd4",
   "metadata": {},
   "outputs": [],
   "source": [
    "# drop missing val\n",
    "df.dropna(inplace=True)"
   ]
  },
  {
   "cell_type": "code",
   "execution_count": 30,
   "id": "cafeb2c2",
   "metadata": {},
   "outputs": [
    {
     "name": "stdout",
     "output_type": "stream",
     "text": [
      "   Id  EmployeeName                         JobTitle    BasePay OvertimePay  \\\n",
      "1   2  GARY JIMENEZ  CAPTAIN III (POLICE DEPARTMENT)  155966.02   245131.88   \n",
      "\n",
      "    OtherPay   TotalPay  TotalPayBenefits  Year         Agency  \n",
      "1  137811.38  538909.28         538909.28  2011  San Francisco  \n"
     ]
    }
   ],
   "source": [
    "# Create Employee Function\n",
    "def get_employee_details(name):\n",
    "    try:\n",
    "        # Look for the employee by name in the dataset\n",
    "        employee = df[df['EmployeeName'].str.contains(name, case=False, na=False)]\n",
    "        if employee.empty:\n",
    "            return f\"Employee {name} not found.\"\n",
    "        return employee\n",
    "    except Exception as e:\n",
    "        return f\"An error occurred: {e}\"\n",
    "\n",
    "# Test the function\n",
    "print(get_employee_details('GARY JIMENEZ'))  \n"
   ]
  },
  {
   "cell_type": "code",
   "execution_count": 31,
   "id": "cd48ac14",
   "metadata": {},
   "outputs": [
    {
     "name": "stderr",
     "output_type": "stream",
     "text": [
      "C:\\Users\\USER\\AppData\\Local\\Temp\\ipykernel_10408\\675163622.py:2: UserWarning: DataFrame columns are not unique, some columns will be omitted.\n",
      "  employee_dict = df.set_index('EmployeeName').T.to_dict()\n"
     ]
    },
    {
     "name": "stdout",
     "output_type": "stream",
     "text": [
      "{'Id': 2, 'JobTitle': 'CAPTAIN III (POLICE DEPARTMENT)', 'BasePay': 155966.02, 'OvertimePay': 245131.88, 'OtherPay': 137811.38, 'TotalPay': 538909.28, 'TotalPayBenefits': 538909.28, 'Year': 2011, 'Agency': 'San Francisco'}\n"
     ]
    }
   ],
   "source": [
    "# Create a dictionary from the dataset\n",
    "employee_dict = df.set_index('EmployeeName').T.to_dict()\n",
    "\n",
    "# Access details of a specific employee\n",
    "def get_employee_from_dict(name):\n",
    "    try:\n",
    "        return employee_dict[name]\n",
    "    except KeyError:\n",
    "        return f\"No employee found with the name: {name}\"\n",
    "\n",
    "# Example usage\n",
    "print(get_employee_from_dict(\"GARY JIMENEZ\"))\n"
   ]
  },
  {
   "cell_type": "code",
   "execution_count": 33,
   "id": "23188dc1",
   "metadata": {},
   "outputs": [
    {
     "name": "stdout",
     "output_type": "stream",
     "text": [
      "            Id          EmployeeName  \\\n",
      "13          14           JOHN MARTIN   \n",
      "26          27           JOHN HANLEY   \n",
      "33          34            JOHN TURSI   \n",
      "93          94           JOHN MURPHY   \n",
      "112        113         JOHN HALEY JR   \n",
      "...        ...                   ...   \n",
      "148436  148437      John E Mcdonnell   \n",
      "148473  148474       John Brightbill   \n",
      "148534  148535      Carina L Johnson   \n",
      "148580  148581  Johnmark L Henderson   \n",
      "148631  148632       Andre M Johnson   \n",
      "\n",
      "                                                JobTitle    BasePay  \\\n",
      "13                                     DEPARTMENT HEAD V  271329.03   \n",
      "26                             CAPTAIN, FIRE SUPPRESSION    92080.8   \n",
      "33                    INSPECTOR III, (POLICE DEPARTMENT)  104861.39   \n",
      "93                       CAPTAIN III (POLICE DEPARTMENT)  215914.03   \n",
      "112     DEPUTY DIRECTOR II - MUNICIPAL TRANSPORTATION AG  220115.22   \n",
      "...                                                  ...        ...   \n",
      "148436                                 Recreation Leader     206.40   \n",
      "148473                      Public Svc Aide-Public Works     105.90   \n",
      "148534                                     Special Nurse       0.00   \n",
      "148580                                 Recreation Leader      52.13   \n",
      "148631                       Communications Dispatcher 1       0.00   \n",
      "\n",
      "       OvertimePay   OtherPay   TotalPay  TotalPayBenefits  Year  \\\n",
      "13             0.0   21342.59  292671.62         292671.62  2011   \n",
      "26         40008.0  133695.76  265784.56         265784.56  2011   \n",
      "33        50227.61  103499.39  258588.39         258588.39  2011   \n",
      "93             0.0   12293.83  228207.86         228207.86  2011   \n",
      "112            0.0      237.0  220352.22         220352.22  2011   \n",
      "...            ...        ...        ...               ...   ...   \n",
      "148436        0.00       6.88     213.28            215.42  2014   \n",
      "148473        0.00       0.00     105.90            180.77  2014   \n",
      "148534        0.00     101.50     101.50            102.52  2014   \n",
      "148580        0.00       0.00      52.13             52.65  2014   \n",
      "148631        0.00       0.00       0.00              0.00  2014   \n",
      "\n",
      "               Agency  \n",
      "13      San Francisco  \n",
      "26      San Francisco  \n",
      "33      San Francisco  \n",
      "93      San Francisco  \n",
      "112     San Francisco  \n",
      "...               ...  \n",
      "148436  San Francisco  \n",
      "148473  San Francisco  \n",
      "148534  San Francisco  \n",
      "148580  San Francisco  \n",
      "148631  San Francisco  \n",
      "\n",
      "[3281 rows x 10 columns]\n"
     ]
    }
   ],
   "source": [
    "def get_employee_details_with_error_handling(name):\n",
    "    try:\n",
    "        employee_data = df[df['EmployeeName'].str.contains(name, case=False, na=False)]\n",
    "        if employee_data.empty:\n",
    "            raise ValueError(f\"Employee '{name}' not found.\")\n",
    "        return employee_data\n",
    "    except ValueError as ve:\n",
    "        return str(ve)\n",
    "    except Exception as e:\n",
    "        return f\"An unexpected error occurred: {e}\"\n",
    "\n",
    "# Example usage\n",
    "print(get_employee_details_with_error_handling(\"john\"))\n"
   ]
  },
  {
   "cell_type": "code",
   "execution_count": 34,
   "id": "9c47937c",
   "metadata": {},
   "outputs": [
    {
     "name": "stdout",
     "output_type": "stream",
     "text": [
      "Details of JOHN have been exported and zipped.\n"
     ]
    }
   ],
   "source": [
    "import zipfile\n",
    "import os\n",
    "\n",
    "def export_employee_details_to_csv(name):\n",
    "    employee_data = get_employee_details(name)\n",
    "    if isinstance(employee_data, pd.DataFrame):\n",
    "        csv_filename = f\"{name}_details.csv\"\n",
    "        zip_filename = \"Employee_Profile.zip\"\n",
    "        \n",
    "        # Export to CSV\n",
    "        employee_data.to_csv(csv_filename, index=False)\n",
    "        \n",
    "        # Zip the CSV file\n",
    "        with zipfile.ZipFile(zip_filename, 'w') as zipf:\n",
    "            zipf.write(csv_filename)\n",
    "        \n",
    "        # Clean up the CSV file\n",
    "        os.remove(csv_filename)\n",
    "        \n",
    "        return f\"Details of {name} have been exported and zipped.\"\n",
    "    else:\n",
    "        return employee_data\n",
    "\n",
    "# Example usage\n",
    "print(export_employee_details_to_csv(\"JOHN\"))\n"
   ]
  },
  {
   "cell_type": "code",
   "execution_count": null,
   "id": "aaca8323",
   "metadata": {},
   "outputs": [],
   "source": []
  }
 ],
 "metadata": {
  "kernelspec": {
   "display_name": "Python 3 (ipykernel)",
   "language": "python",
   "name": "python3"
  },
  "language_info": {
   "codemirror_mode": {
    "name": "ipython",
    "version": 3
   },
   "file_extension": ".py",
   "mimetype": "text/x-python",
   "name": "python",
   "nbconvert_exporter": "python",
   "pygments_lexer": "ipython3",
   "version": "3.10.9"
  }
 },
 "nbformat": 4,
 "nbformat_minor": 5
}
